{
 "cells": [
  {
   "cell_type": "markdown",
   "metadata": {},
   "source": [
    "# Credit-Risk Modelling\n",
    "<br>\n",
    "data source: https://www.kaggle.com/c/home-credit-default-risk/"
   ]
  },
  {
   "cell_type": "markdown",
   "metadata": {},
   "source": [
    "## Business Understanding"
   ]
  },
  {
   "cell_type": "markdown",
   "metadata": {},
   "source": [
    "Many people struggle to get loans due to insufficient or non-existent credit histories. And, unfortunately, this population is often taken advantage of by untrustworthy lenders. Home Credit strives to broaden financial inclusion for the unbanked population by providing a positive and safe borrowing experience. In order to make sure this underserved population has a positive loan experience, Home Credit makes use of a variety of alternative data--including telco and transactional information--to predict their clients' repayment abilities.\n",
    "\n",
    "While Home Credit is currently using various statistical and machine learning methods to make these predictions, they're challenging Kagglers to help them unlock the full potential of their data. Doing so will ensure that clients capable of repayment are not rejected and that loans are given with a principal, maturity, and repayment calendar that will empower their clients to be successful"
   ]
  },
  {
   "cell_type": "markdown",
   "metadata": {},
   "source": [
    "# Data Understanding"
   ]
  },
  {
   "cell_type": "markdown",
   "metadata": {},
   "source": [
    "The data is provided by Home Credit, a service dedicated to provided lines of credit (loans) to the unbanked population. Predicting whether or not a client will repay a loan or have difficulty is a critical business need, and Home Credit is hosting this competition on Kaggle to see what sort of models the machine learning community can develop to help them in this task.\n",
    "\n",
    "There are 7 different sources of data:\n",
    "\n",
    "1. application_train/application_test: the main training and testing data with information about each loan application at Home Credit. Every loan has its own row and is identified by the feature SK_ID_CURR. The training application data comes with the TARGET indicating 0: the loan was repaid or 1: the loan was not repaid.\n",
    "<br>\n",
    "2. bureau: data concerning client's previous credits from other financial institutions. Each previous credit has its own row in bureau, but one loan in the application data can have multiple previous credits.\n",
    "<br>\n",
    "3. bureau_balance: monthly data about the previous credits in bureau. Each row is one month of a previous credit, and a single previous credit can have multiple rows, one for each month of the credit length.\n",
    "<br>\n",
    "4. previous_application: previous applications for loans at Home Credit of clients who have loans in the application data. Each current loan in the application data can have multiple previous loans. Each previous application has one row and is identified by the feature SK_ID_PREV.\n",
    "<br>\n",
    "5. POS_CASH_BALANCE: monthly data about previous point of sale or cash loans clients have had with Home Credit. Each row is one month of a previous point of sale or cash loan, and a single previous loan can have many rows.\n",
    "<br>\n",
    "6. credit_card_balance: monthly data about previous credit cards clients have had with Home Credit. Each row is one month of a credit card balance, and a single credit card can have many rows.\n",
    "<br>\n",
    "7. installments_payment: payment history for previous loans at Home Credit. There is one row for every made payment and one row for every missed payment."
   ]
  },
  {
   "cell_type": "markdown",
   "metadata": {},
   "source": [
    "## Importing Libraries "
   ]
  },
  {
   "cell_type": "code",
   "execution_count": 1,
   "metadata": {},
   "outputs": [
    {
     "data": {
      "text/html": [
       "        <script type=\"text/javascript\">\n",
       "        window.PlotlyConfig = {MathJaxConfig: 'local'};\n",
       "        if (window.MathJax) {MathJax.Hub.Config({SVG: {font: \"STIX-Web\"}});}\n",
       "        if (typeof require !== 'undefined') {\n",
       "        require.undef(\"plotly\");\n",
       "        requirejs.config({\n",
       "            paths: {\n",
       "                'plotly': ['https://cdn.plot.ly/plotly-latest.min']\n",
       "            }\n",
       "        });\n",
       "        require(['plotly'], function(Plotly) {\n",
       "            window._Plotly = Plotly;\n",
       "        });\n",
       "        }\n",
       "        </script>\n",
       "        "
      ]
     },
     "metadata": {},
     "output_type": "display_data"
    },
    {
     "data": {
      "text/html": [
       "        <script type=\"text/javascript\">\n",
       "        window.PlotlyConfig = {MathJaxConfig: 'local'};\n",
       "        if (window.MathJax) {MathJax.Hub.Config({SVG: {font: \"STIX-Web\"}});}\n",
       "        if (typeof require !== 'undefined') {\n",
       "        require.undef(\"plotly\");\n",
       "        requirejs.config({\n",
       "            paths: {\n",
       "                'plotly': ['https://cdn.plot.ly/plotly-latest.min']\n",
       "            }\n",
       "        });\n",
       "        require(['plotly'], function(Plotly) {\n",
       "            window._Plotly = Plotly;\n",
       "        });\n",
       "        }\n",
       "        </script>\n",
       "        "
      ]
     },
     "metadata": {},
     "output_type": "display_data"
    }
   ],
   "source": [
    "import pandas as pd\n",
    "import numpy as np\n",
    "import matplotlib.pyplot as plt\n",
    "%matplotlib inline\n",
    "import seaborn as sns\n",
    "import os\n",
    "import math\n",
    "import statistics\n",
    "\n",
    "from plotly.offline import download_plotlyjs, init_notebook_mode, plot, iplot\n",
    "init_notebook_mode(connected=True)\n",
    "\n",
    "import cufflinks as cf\n",
    "cf.go_offline()\n",
    "\n",
    "from sklearn.linear_model import LogisticRegression\n",
    "from sklearn import metrics\n",
    "from sklearn.metrics import roc_auc_score\n",
    "from sklearn.metrics import roc_curve\n",
    "from sklearn.model_selection import train_test_split\n",
    "from sklearn.model_selection import GridSearchCV, RandomizedSearchCV\n",
    "from sklearn.metrics import make_scorer, roc_auc_score\n",
    "\n",
    "pd.options.display.max_rows = 1000"
   ]
  },
  {
   "cell_type": "markdown",
   "metadata": {},
   "source": [
    "## Checking files that will be used"
   ]
  },
  {
   "cell_type": "code",
   "execution_count": 2,
   "metadata": {},
   "outputs": [
    {
     "name": "stdout",
     "output_type": "stream",
     "text": [
      "The files that will be used are:\n",
      "\n",
      "application_test.csv\n",
      "application_train.csv\n",
      "bureau.csv\n",
      "bureau_balance.csv\n",
      "credit_card_balance.csv\n",
      "HomeCredit_columns_description.csv\n",
      "installments_payments.csv\n",
      "POS_CASH_balance.csv\n",
      "previous_application.csv\n",
      "sample_submission.csv\n"
     ]
    }
   ],
   "source": [
    "file_list = os.listdir('.')\n",
    "print('The files that will be used are:' '\\n')\n",
    "for file in file_list:\n",
    "    if '.csv' in file:\n",
    "        print(file)"
   ]
  },
  {
   "cell_type": "markdown",
   "metadata": {},
   "source": [
    "All file's content has been explained in the previous section, so lets continue to see the greater details! Firstly lets look into the **application_train.csv**"
   ]
  },
  {
   "cell_type": "markdown",
   "metadata": {},
   "source": [
    "## Memory Optimization"
   ]
  },
  {
   "cell_type": "code",
   "execution_count": 3,
   "metadata": {},
   "outputs": [],
   "source": [
    "def optimize(df):\n",
    "    \"\"\" iterate through all the columns of a dataframe and modify the data type\n",
    "        to reduce memory usage.        \n",
    "    \"\"\"\n",
    "    start_mem = df.memory_usage().sum() / 1024**2\n",
    "    print('Memory usage of dataframe is: {:.2f} MB'.format(start_mem))\n",
    "    \n",
    "    for col in df.columns:\n",
    "        col_type = df[col].dtype\n",
    "        \n",
    "        if str(col_type)[:3] == 'int' or str(col_type)[:5] == 'float':\n",
    "            c_min = df[col].min()\n",
    "            c_max = df[col].max()\n",
    "            if c_min >= 0 and str(col_type)[:3] == 'int':\n",
    "                if c_max < 255:\n",
    "                    df[col] = df[col].astype(np.uint8)\n",
    "                elif c_max < 65535:\n",
    "                    df[col] = df[col].astype(np.uint16)\n",
    "                elif c_max < 4294967295:\n",
    "                    df[col] = df[col].astype(np.uint32)\n",
    "                else:\n",
    "                    df[col] = df[col].astype(np.uint64)            \n",
    "            elif str(col_type)[:3] == 'int':\n",
    "                if c_min > np.iinfo(np.int8).min and c_max < np.iinfo(np.int8).max:\n",
    "                    df[col] = df[col].astype(np.int8)\n",
    "                elif c_min > np.iinfo(np.int16).min and c_max < np.iinfo(np.int16).max:\n",
    "                    df[col] = df[col].astype(np.int16)\n",
    "                elif c_min > np.iinfo(np.int32).min and c_max < np.iinfo(np.int32).max:\n",
    "                    df[col] = df[col].astype(np.int32)\n",
    "                elif c_min > np.iinfo(np.int64).min and c_max < np.iinfo(np.int64).max:\n",
    "                    df[col] = df[col].astype(np.int64)  \n",
    "            else:\n",
    "                if c_min > np.finfo(np.float32).min and c_max < np.finfo(np.float32).max:\n",
    "                    df[col] = df[col].astype(np.float32)\n",
    "                else:\n",
    "                    df[col] = df[col].astype(np.float64)\n",
    "\n",
    "    end_mem = df.memory_usage().sum() / 1024**2\n",
    "    print('Memory usage after optimization is: {:.2f} MB'.format(end_mem))\n",
    "    print('Decreased by {:.1f}%'.format(100 * (start_mem - end_mem) / start_mem))\n",
    "    \n",
    "    return df"
   ]
  },
  {
   "cell_type": "markdown",
   "metadata": {},
   "source": [
    "## Reading the train data"
   ]
  },
  {
   "cell_type": "code",
   "execution_count": 4,
   "metadata": {},
   "outputs": [
    {
     "name": "stdout",
     "output_type": "stream",
     "text": [
      "Memory usage of dataframe is: 286.23 MB\n",
      "Memory usage after optimization is: 129.33 MB\n",
      "Decreased by 54.8%\n",
      "The size of train_data is: (307511, 121)\n"
     ]
    }
   ],
   "source": [
    "train_data = optimize(pd.read_csv('application_train.csv',index_col='SK_ID_CURR'))\n",
    "print('The size of train_data is:',train_data.shape)"
   ]
  },
  {
   "cell_type": "markdown",
   "metadata": {},
   "source": [
    "## Information about the data"
   ]
  },
  {
   "cell_type": "code",
   "execution_count": null,
   "metadata": {
    "scrolled": false
   },
   "outputs": [],
   "source": [
    "# Checking data\n",
    "display(train_data.head().T)"
   ]
  },
  {
   "cell_type": "code",
   "execution_count": null,
   "metadata": {},
   "outputs": [],
   "source": [
    "#Basic statistics of data\n",
    "display(train_data.describe().T)"
   ]
  },
  {
   "cell_type": "code",
   "execution_count": null,
   "metadata": {},
   "outputs": [],
   "source": [
    "#Data types\n",
    "train_data.dtypes"
   ]
  },
  {
   "cell_type": "code",
   "execution_count": null,
   "metadata": {},
   "outputs": [],
   "source": [
    "#Checking name of columns\n",
    "list(train_data)"
   ]
  },
  {
   "cell_type": "code",
   "execution_count": null,
   "metadata": {},
   "outputs": [],
   "source": [
    "#Checking vull values in data and its proportion to each column\n",
    "def missing_values_table(df):\n",
    "    missing_value = df.isnull().sum()\n",
    "    missing_value_percentage = 100 * df.isnull().sum() / len(df)\n",
    "    missing_value_table = pd.concat([missing_value, missing_value_percentage], axis=1)\n",
    "    missing_value_table = missing_value_table.rename(columns = {0 : 'Missing Values', 1 : '% of Total Values'})\n",
    "    missing_value_table = missing_value_table[missing_value_table.iloc[:,1] != 0].sort_values('% of Total Values',ascending=False).round(1)\n",
    "    return missing_value_table\n",
    "\n",
    "missing_values_table(train_data)"
   ]
  },
  {
   "cell_type": "markdown",
   "metadata": {},
   "source": [
    "## Exploratory Data Analysis"
   ]
  },
  {
   "cell_type": "markdown",
   "metadata": {},
   "source": [
    "### Default & Non-default Clients Distribution"
   ]
  },
  {
   "cell_type": "code",
   "execution_count": null,
   "metadata": {},
   "outputs": [],
   "source": [
    "sns.countplot(x='TARGET', data=train_data)\n",
    "\n",
    "plt.xlabel('TARGET')\n",
    "plt.ylabel('COUNT')\n",
    "plt.title('DEFAULT CONTRACT DISTRIBUTION')\n",
    "plt.show()"
   ]
  },
  {
   "cell_type": "markdown",
   "metadata": {},
   "source": [
    "### Client's Age Distribution"
   ]
  },
  {
   "cell_type": "code",
   "execution_count": null,
   "metadata": {},
   "outputs": [],
   "source": [
    "#For more intuitive sight, lets translate DAYS_BIRTH to AGE\n",
    "train_data['AGE'] = train_data['DAYS_BIRTH'].apply(lambda x: math.floor(x/-365))\n",
    "\n",
    "#Plotting distribution of Age who Defaulted\n",
    "plt.style.use('bmh')\n",
    "sns.kdeplot(train_data[train_data['TARGET'] == 1]['AGE'],color='red')\n",
    "sns.kdeplot(train_data[train_data['TARGET'] == 0]['AGE'],color='blue')"
   ]
  },
  {
   "cell_type": "markdown",
   "metadata": {},
   "source": [
    "### Contract Type Percentage"
   ]
  },
  {
   "cell_type": "code",
   "execution_count": null,
   "metadata": {},
   "outputs": [],
   "source": [
    "fig, ax = plt.subplots()\n",
    "\n",
    "size = 0.3\n",
    "vals = train_data['NAME_CONTRACT_TYPE'].value_counts()\n",
    "my_circle = plt.Circle((0,0), 0.7, color='white')\n",
    "cmap = plt.get_cmap(\"tab20c\")\n",
    "labels = ['Cash loans','Revolving Loans']\n",
    "\n",
    "ax.pie(vals, radius=1, startangle=90, wedgeprops={'edgecolor': 'black'}, \n",
    "       textprops={'fontsize': 14}, autopct='%1.f%%')\n",
    "plt.gcf().gca().add_artist(my_circle)\n",
    "\n",
    "fig.set_figheight(8)\n",
    "fig.set_figwidth(6)\n",
    "fig.legend(labels=labels, fontsize='large',loc='upper right',bbox_to_anchor=(0.5, 0.35, 0.7, 0.5))\n",
    "fig.tight_layout()\n",
    "fig.suptitle('Client Contact Information Provided', fontsize=25, y=0.9, fontweight='bold', x=0.5)\n",
    "\n",
    "fig.savefig('Opinions_ctq')\n",
    "plt.show()"
   ]
  },
  {
   "cell_type": "markdown",
   "metadata": {},
   "source": [
    "### Client's Contact Provided"
   ]
  },
  {
   "cell_type": "code",
   "execution_count": null,
   "metadata": {},
   "outputs": [],
   "source": [
    "plt.style.use('seaborn')\n",
    "\n",
    "#Building dataframe consist of customers data provided\n",
    "cols_list = ['FLAG_MOBIL','FLAG_EMP_PHONE','FLAG_WORK_PHONE','FLAG_CONT_MOBILE','FLAG_PHONE','FLAG_EMAIL']\n",
    "count_value = pd.DataFrame(columns=cols_list,index=[0,1])\n",
    "\n",
    "for col in cols_list:\n",
    "    count_value[col]= train_data[col].value_counts().to_frame()\n",
    "count_value = count_value.T\n",
    "\n",
    "fig, ax = plt.subplots(nrows=3, ncols=2)\n",
    "\n",
    "labels = 'No', 'Yes'\n",
    "colors = ['#ff6666', '#ffcc99']\n",
    "\n",
    "plt.title('Client Contact Information')\n",
    "plt.tight_layout()\n",
    "\n",
    "#Plotting pie chart for every data kind\n",
    "chart_title = ['Mobile Phone','Work Phone','Office Phone','Phone Reachability','Home Phone','E-mail']\n",
    "\n",
    "for i in range(0,3):\n",
    "    for j in range(0,2):\n",
    "        ax[i,j].pie(count_value.iloc[2*i+j], startangle=90, colors=colors, wedgeprops={'edgecolor': 'black'}, \n",
    "                    textprops={'fontsize': 14}, autopct='%1.f%%')\n",
    "        ax[i,j].set_title(chart_title[2*i+j], fontweight='bold',fontsize= 18)\n",
    "\n",
    "fig.suptitle('Client Contact Information Provided', fontsize=25, y=1.04, fontweight='bold', x=0.5)\n",
    "fig.set_figheight(15)\n",
    "fig.set_figwidth(10)\n",
    "fig.legend(labels=labels, fontsize='large',loc='upper right',bbox_to_anchor=(0.5, 0.52, 0.6, 0.5))\n",
    "fig.tight_layout()\n",
    "\n",
    "fig.savefig('Opinions_ctq')\n",
    "\n",
    "plt.show()"
   ]
  },
  {
   "cell_type": "markdown",
   "metadata": {},
   "source": [
    "## Client Registered Address"
   ]
  },
  {
   "cell_type": "code",
   "execution_count": null,
   "metadata": {},
   "outputs": [],
   "source": [
    "plt.style.use('seaborn')\n",
    "\n",
    "#Building dataframe consist of customers data provided\n",
    "cols_list = ['REG_CITY_NOT_LIVE_CITY','REG_CITY_NOT_WORK_CITY']\n",
    "count_value = pd.DataFrame(columns=cols_list,index=[0,1])\n",
    "\n",
    "for col in cols_list:\n",
    "    count_value[col]= train_data[col].value_counts().to_frame()\n",
    "count_value = count_value.T\n",
    "\n",
    "fig, ax = plt.subplots(nrows=1, ncols=2)\n",
    "a,b = [plt.cm.Blues,plt.cm.Reds]\n",
    "labels = 'Yes', 'No'\n",
    "\n",
    "#Plotting pie chart for every data kind\n",
    "chart_title = ['Registered City = Living City','Registered City = Working City']\n",
    "explode = (0,0.11)\n",
    "\n",
    "for i in range(0,2):\n",
    "    ax[i].pie(count_value.iloc[i], explode = explode, startangle=90, shadow= True, \n",
    "              colors=[a(0.7),b(0.7)], wedgeprops={'edgecolor': 'black'}, autopct='%1.f%%',textprops={'fontsize': 14})\n",
    "    ax[i].set_title(chart_title[i], fontweight='bold')\n",
    "    \n",
    "fig.suptitle('Client Registered Address', fontsize=18, y=1, fontweight='bold', x=0.5)\n",
    "fig.set_figheight(6)\n",
    "fig.set_figwidth(10)\n",
    "fig.legend(labels=labels, fontsize='large',loc=1,bbox_to_anchor=(0.5, 0.4, 0.6, 0.5))\n",
    "fig.tight_layout()\n",
    "\n",
    "fig.savefig('Opinions_ctq')\n",
    "\n",
    "plt.show()"
   ]
  },
  {
   "cell_type": "markdown",
   "metadata": {},
   "source": [
    "### Client's Wealth"
   ]
  },
  {
   "cell_type": "code",
   "execution_count": null,
   "metadata": {},
   "outputs": [],
   "source": [
    "plt.style.use('seaborn')\n",
    "\n",
    "#Building dataframe consist of customers data provided\n",
    "cols_list = ['FLAG_OWN_CAR','FLAG_OWN_REALTY']\n",
    "count_value = pd.DataFrame(columns=cols_list,index=['Y','N'])\n",
    "\n",
    "for col in cols_list:\n",
    "    count_value[col]= train_data[col].value_counts().to_frame()\n",
    "count_value = count_value.T\n",
    "\n",
    "fig, ax = plt.subplots(nrows=1, ncols=2)\n",
    "colors = ['#72DA51','#DADC53']\n",
    "labels = 'Yes', 'No'\n",
    "\n",
    "#Plotting pie chart for every data kind\n",
    "chart_title = ['Own Car','Own House or Apartment']\n",
    "explode = (0,0.11)\n",
    "\n",
    "for i in range(0,2):\n",
    "    ax[i].pie(count_value.iloc[i], explode = explode, startangle=90, shadow= True, colors=colors,\n",
    "              wedgeprops={'edgecolor': 'black'}, autopct='%1.f%%',textprops={'fontsize': 14})\n",
    "    ax[i].set_title(chart_title[i], fontweight='bold',fontsize=15)\n",
    "    \n",
    "fig.suptitle('Client Wealth', fontsize=18, y=1, fontweight='bold', x=0.5)\n",
    "fig.set_figheight(6)\n",
    "fig.set_figwidth(10)\n",
    "fig.legend(labels=labels, fontsize='large',loc=1,bbox_to_anchor=(0.5, 0.4, 0.6, 0.5))\n",
    "fig.tight_layout()\n",
    "\n",
    "fig.savefig('Opinions_ctq')\n",
    "\n",
    "plt.show()"
   ]
  },
  {
   "cell_type": "markdown",
   "metadata": {},
   "source": [
    "### Loan Specification"
   ]
  },
  {
   "cell_type": "code",
   "execution_count": null,
   "metadata": {},
   "outputs": [],
   "source": [
    "plt.style.use('seaborn')\n",
    "\n",
    "#Column to plot\n",
    "cols_list = ['AMT_CREDIT','AMT_ANNUITY','AMT_GOODS_PRICE']\n",
    "\n",
    "fig, ax = plt.subplots(nrows=1, ncols=3)\n",
    "\n",
    "chart_title = ['Amount of Credit','Amount of Annuity', 'Amount of Goods Price']\n",
    "labels = ['Default','No Default']\n",
    "\n",
    "for i in range(0,3):\n",
    "    ax[i].hist(train_data[train_data['TARGET'] == 1][cols_list[i]],bins=25,color='b',alpha=0.5)\n",
    "    ax[i].hist(train_data[train_data['TARGET'] == 0][cols_list[i]],bins=25,color='r',alpha=0.5)\n",
    "    ax[i].set_title(chart_title[i], fontweight='bold',fontsize=15)\n",
    "    \n",
    "fig.suptitle('Loan Specification', fontsize=18, y=1, fontweight='bold', x=0.5)\n",
    "fig.set_figheight(6)\n",
    "fig.set_figwidth(15)\n",
    "fig.tight_layout()\n",
    "fig.legend(labels=labels,fontsize='medium',loc=1,bbox_to_anchor=(0.5, 0.4, 0.6, 0.5))\n",
    "\n",
    "fig.savefig('Opinions_ctq')\n",
    "\n",
    "plt.show()"
   ]
  },
  {
   "cell_type": "markdown",
   "metadata": {},
   "source": [
    "### Previous Loan Specification "
   ]
  },
  {
   "cell_type": "code",
   "execution_count": null,
   "metadata": {},
   "outputs": [],
   "source": [
    "#Reading previous loan data\n",
    "prev_loan = optimize(pd.read_csv('previous_application.csv',index_col='SK_ID_CURR'))\n",
    "\n",
    "#People who have default loan and have historical loan\n",
    "def_client = train_data[train_data['TARGET'] == 1].index.values\n",
    "non_def_client = train_data[train_data['TARGET'] == 0].index.values\n",
    "prev_loan_by_def_clients = prev_loan.iloc[def_client,:]\n",
    "prev_loan_by_non_def_clients = prev_loan.iloc[non_def_client,:]\n",
    "#prev_loan_by_def_clients.head(10)\n",
    "\n",
    "\n",
    "plt.style.use('seaborn')\n",
    "#Column to plot\n",
    "cols_list = ['AMT_CREDIT','AMT_ANNUITY','AMT_GOODS_PRICE']\n",
    "\n",
    "fig, ax = plt.subplots(nrows=1, ncols=3)\n",
    "\n",
    "chart_title = ['Amount of Credit','Amount of Annuity', 'Amount of Goods Price']\n",
    "labels = ['Default','No Default']\n",
    "\n",
    "for i in range(0,3):\n",
    "    ax[i].hist(prev_loan_by_def_clients[cols_list[i]],bins=25,color='b')\n",
    "    ax[i].hist(prev_loan_by_non_def_clients[cols_list[i]],bins=25,color='r',alpha=0.5)\n",
    "    ax[i].set_title(chart_title[i], fontweight='bold',fontsize=15)\n",
    "    \n",
    "fig.suptitle('Loan Specification', fontsize=18, y=1, fontweight='bold', x=0.5)\n",
    "fig.set_figheight(6)\n",
    "fig.set_figwidth(15)\n",
    "fig.tight_layout()\n",
    "fig.legend(labels=labels,fontsize='medium',loc=1,bbox_to_anchor=(0.5, 0.4, 0.6, 0.5))\n",
    "\n",
    "fig.savefig('Opinions_ctq')\n",
    "\n",
    "plt.show()"
   ]
  },
  {
   "cell_type": "markdown",
   "metadata": {},
   "source": [
    "### Conclusion on EDA"
   ]
  },
  {
   "cell_type": "markdown",
   "metadata": {},
   "source": [
    "From the EDA step, we can conclude that:\n",
    "<br>\n",
    "1. Target class is highly imbalance\n",
    "<br>\n",
    "2. There is a trend where the client's age increasing, the probability of client defaulted decreasing\n",
    "<br>\n",
    "3. Most of the loans are cash loans\n",
    "<br>\n",
    "4. Almost all clients provide mobile phone and the phone numbers are reachable.\n",
    "<br>\n",
    "5. Clients registered address are mostly in the same city where they live, but not where their work\n",
    "<br>\n",
    "6. Two-third of clients don't have their own car, but two-third of them have their own home\n",
    "<br>\n",
    "7. Loan specification such as amount loan total, amount annuity, etc does'nt show any trend which refer to the defaulted contracts"
   ]
  },
  {
   "cell_type": "markdown",
   "metadata": {},
   "source": [
    "## Data Preparation"
   ]
  },
  {
   "cell_type": "markdown",
   "metadata": {},
   "source": [
    "### Encoding Categorical Feature"
   ]
  },
  {
   "cell_type": "code",
   "execution_count": 5,
   "metadata": {},
   "outputs": [],
   "source": [
    "from sklearn.preprocessing import OrdinalEncoder"
   ]
  },
  {
   "cell_type": "code",
   "execution_count": null,
   "metadata": {},
   "outputs": [],
   "source": [
    "# Instantiate both packages to use\n",
    "encoder = OrdinalEncoder()\n",
    "\n",
    "# Create a list of categorical columns to iterate over\n",
    "category_cols = [col for col in list(train_data) if train_data[col].dtype  == 'object']\n",
    "\n",
    "def encode(data):\n",
    "    '''function to encode non-null data and replace it in the original data'''\n",
    "    #retains only non-null values\n",
    "    nonulls = np.array(data.dropna())\n",
    "    #reshapes the data for encoding\n",
    "    impute_reshape = nonulls.reshape(-1,1)\n",
    "    #encode date\n",
    "    impute_ordinal = encoder.fit_transform(impute_reshape)\n",
    "    #Assign back encoded values to non-null values\n",
    "    data.loc[data.notnull()] = np.squeeze(impute_ordinal)\n",
    "    return data\n",
    "\n",
    "# Create a for loop to iterate through each column in the data\n",
    "for col in category_cols:\n",
    "    encode(train_data[col])"
   ]
  },
  {
   "cell_type": "markdown",
   "metadata": {},
   "source": [
    "### Anomaly Detection and Treatment"
   ]
  },
  {
   "cell_type": "markdown",
   "metadata": {},
   "source": [
    "All continuous columns has been scaled, so we will assume no anomaly in the columns. Next we will check on discrete columns"
   ]
  },
  {
   "cell_type": "code",
   "execution_count": null,
   "metadata": {},
   "outputs": [],
   "source": [
    "# List all columns that consist of discrete numbers \n",
    "flag_columns = [col for col in list(train_data) if 'FLAG_' in col]\n",
    "reg_columns = [col for col in list(train_data) if '_REGION' in col]\n",
    "city_columns = [col for col in list(train_data) if '_CITY' in col]\n",
    "amt_columns = [col for col in list(train_data) if 'AMT_' in col]\n",
    "reg_rating_columns = [col for col in list(train_data) if 'REGION_RATING' in col]\n",
    "soc_circle_columns = [col for col in list(train_data) if 'SOCIAL_CIRCLE' in col]\n",
    "days_columns = [col for col in list(train_data) if 'DAYS_' in col]\n",
    "other_disc_columns = ['CNT_CHILDREN','OWN_CAR_AGE','CNT_CHILDREN','CNT_FAM_MEMBERS','HOUR_APPR_PROCESS_START']\n",
    "all_discrete_columns = category_cols + flag_columns + reg_columns + city_columns + amt_columns + reg_rating_columns + soc_circle_columns + days_columns + other_disc_columns\n",
    "\n",
    "#Plotting distribution of cnt columns\n",
    "plt.style.use('seaborn')\n",
    "\n",
    "#Column to plot (except flag-type columns and rating columns)\n",
    "cols_list = amt_columns+soc_circle_columns+days_columns+other_disc_columns\n",
    "\n",
    "fig, ax = plt.subplots(nrows=8, ncols=3)\n",
    "\n",
    "for i in range(0,8):\n",
    "    for j in range(0,3):\n",
    "        ax[i,j].hist(train_data[cols_list[3*i+j]],bins=50,color='b',alpha=0.5)\n",
    "        ax[i,j].set_title(cols_list[3*i+j], fontweight='bold',fontsize=15)\n",
    "    \n",
    "fig.suptitle('Loan Specification', fontsize=18, y=1, fontweight='bold', x=0.5)\n",
    "fig.set_figheight(30)\n",
    "fig.set_figwidth(11)\n",
    "fig.tight_layout()\n",
    "\n",
    "fig.savefig('Opinions_ctq')\n",
    "\n",
    "plt.show()"
   ]
  },
  {
   "cell_type": "markdown",
   "metadata": {},
   "source": [
    "Anomaly spotted in AMT_INCOME_TOTAL and DAYS_EMPLOYED. The data will be filled by nan and will be imputed in the next step"
   ]
  },
  {
   "cell_type": "code",
   "execution_count": null,
   "metadata": {},
   "outputs": [],
   "source": [
    "# Drop data for AMT_INCOME_TOTAL > 100000000\n",
    "train_data['AMT_INCOME_TOTAL'] = train_data['AMT_INCOME_TOTAL'].apply(lambda x: np.nan if x > 100000000 else x)\n",
    "\n",
    "# Drop data for DAYS_EMPLOYED > 0\n",
    "train_data['DAYS_EMPLOYED'] = train_data['DAYS_EMPLOYED'].apply(lambda x: np.nan if x > 0 else x)"
   ]
  },
  {
   "cell_type": "markdown",
   "metadata": {},
   "source": [
    "### Data Imputation "
   ]
  },
  {
   "cell_type": "code",
   "execution_count": null,
   "metadata": {},
   "outputs": [],
   "source": [
    "from sklearn.experimental import enable_iterative_imputer \n",
    "from sklearn.impute import IterativeImputer"
   ]
  },
  {
   "cell_type": "code",
   "execution_count": null,
   "metadata": {},
   "outputs": [],
   "source": [
    "# Defining imputation by MICE method function\n",
    "def impute_MICE(df):\n",
    "    df_columns = df.columns\n",
    "    imp_mean = IterativeImputer(initial_strategy = \"mean\", n_nearest_features = 15, random_state = 0, imputation_order=\"ascending\")\n",
    "    x = imp_mean.fit(df)\n",
    "    X = df\n",
    "    df_MICE_imputed = pd.DataFrame(imp_mean.transform(X),index=df.index)\n",
    "    df_MICE_imputed.columns = df_columns\n",
    "    return df_MICE_imputed"
   ]
  },
  {
   "cell_type": "code",
   "execution_count": null,
   "metadata": {},
   "outputs": [],
   "source": [
    "# Change data type to float for imputation preparation\n",
    "for col in list(train_data):\n",
    "    if train_data[col].dtype == 'object':\n",
    "        train_data[col] = train_data[col].astype(float)\n",
    "\n",
    "# Exclude 'TARGET' from train_data to prevent data leakage\n",
    "imputation_data = train_data.drop('TARGET',axis=1)\n",
    "\n",
    "# Imputing train data, (mice function only accept np.array data) and format it to dataframe\n",
    "imputing_train = impute_MICE(imputation_data)\n",
    "imputed_train = pd.DataFrame(imputing_train, columns=imputation_data.columns)"
   ]
  },
  {
   "cell_type": "code",
   "execution_count": null,
   "metadata": {},
   "outputs": [],
   "source": [
    "# Checking if there is still any missing values in imputed data\n",
    "missing_values_table(imputed_train)\n",
    "\n",
    "#The result must be empty after imputation process"
   ]
  },
  {
   "cell_type": "code",
   "execution_count": null,
   "metadata": {},
   "outputs": [],
   "source": [
    "# Rounding numbers in columns that are discrete\n",
    "imputed_train[all_discrete_columns] = np.round(imputed_train[all_discrete_columns])"
   ]
  },
  {
   "cell_type": "code",
   "execution_count": null,
   "metadata": {},
   "outputs": [],
   "source": [
    "# Concat with TARGET to get final imputed_train\n",
    "final_imputed_train = pd.merge(left=imputed_train.reset_index(), right=train_data['TARGET'].reset_index(), on='SK_ID_CURR')\n",
    "final_imputed_train = final_imputed_train.set_index('SK_ID_CURR')\n",
    "\n",
    "# Saving final_imputed_train\n",
    "final_imputed_train.to_csv('./output-files/final_imputed_train.csv')"
   ]
  },
  {
   "cell_type": "code",
   "execution_count": 9,
   "metadata": {
    "scrolled": true
   },
   "outputs": [
    {
     "name": "stdout",
     "output_type": "stream",
     "text": [
      "Memory usage of dataframe is: 288.57 MB\n",
      "Memory usage after optimization is: 144.58 MB\n",
      "Decreased by 49.9%\n"
     ]
    },
    {
     "data": {
      "text/html": [
       "<div>\n",
       "<style scoped>\n",
       "    .dataframe tbody tr th:only-of-type {\n",
       "        vertical-align: middle;\n",
       "    }\n",
       "\n",
       "    .dataframe tbody tr th {\n",
       "        vertical-align: top;\n",
       "    }\n",
       "\n",
       "    .dataframe thead th {\n",
       "        text-align: right;\n",
       "    }\n",
       "</style>\n",
       "<table border=\"1\" class=\"dataframe\">\n",
       "  <thead>\n",
       "    <tr style=\"text-align: right;\">\n",
       "      <th></th>\n",
       "      <th>NAME_CONTRACT_TYPE</th>\n",
       "      <th>CODE_GENDER</th>\n",
       "      <th>FLAG_OWN_CAR</th>\n",
       "      <th>FLAG_OWN_REALTY</th>\n",
       "      <th>CNT_CHILDREN</th>\n",
       "      <th>AMT_INCOME_TOTAL</th>\n",
       "      <th>AMT_CREDIT</th>\n",
       "      <th>AMT_ANNUITY</th>\n",
       "      <th>AMT_GOODS_PRICE</th>\n",
       "      <th>NAME_TYPE_SUITE</th>\n",
       "      <th>...</th>\n",
       "      <th>FLAG_DOCUMENT_20</th>\n",
       "      <th>FLAG_DOCUMENT_21</th>\n",
       "      <th>AMT_REQ_CREDIT_BUREAU_HOUR</th>\n",
       "      <th>AMT_REQ_CREDIT_BUREAU_DAY</th>\n",
       "      <th>AMT_REQ_CREDIT_BUREAU_WEEK</th>\n",
       "      <th>AMT_REQ_CREDIT_BUREAU_MON</th>\n",
       "      <th>AMT_REQ_CREDIT_BUREAU_QRT</th>\n",
       "      <th>AMT_REQ_CREDIT_BUREAU_YEAR</th>\n",
       "      <th>AGE</th>\n",
       "      <th>TARGET</th>\n",
       "    </tr>\n",
       "    <tr>\n",
       "      <th>SK_ID_CURR</th>\n",
       "      <th></th>\n",
       "      <th></th>\n",
       "      <th></th>\n",
       "      <th></th>\n",
       "      <th></th>\n",
       "      <th></th>\n",
       "      <th></th>\n",
       "      <th></th>\n",
       "      <th></th>\n",
       "      <th></th>\n",
       "      <th></th>\n",
       "      <th></th>\n",
       "      <th></th>\n",
       "      <th></th>\n",
       "      <th></th>\n",
       "      <th></th>\n",
       "      <th></th>\n",
       "      <th></th>\n",
       "      <th></th>\n",
       "      <th></th>\n",
       "      <th></th>\n",
       "    </tr>\n",
       "  </thead>\n",
       "  <tbody>\n",
       "    <tr>\n",
       "      <th>100002</th>\n",
       "      <td>0.0</td>\n",
       "      <td>1.0</td>\n",
       "      <td>0.0</td>\n",
       "      <td>1.0</td>\n",
       "      <td>0.0</td>\n",
       "      <td>202500.0</td>\n",
       "      <td>406598.0</td>\n",
       "      <td>24700.0</td>\n",
       "      <td>351000.0</td>\n",
       "      <td>6.0</td>\n",
       "      <td>...</td>\n",
       "      <td>0.0</td>\n",
       "      <td>0.0</td>\n",
       "      <td>0.0</td>\n",
       "      <td>0.0</td>\n",
       "      <td>0.0</td>\n",
       "      <td>0.0</td>\n",
       "      <td>0.0</td>\n",
       "      <td>1.0</td>\n",
       "      <td>25.0</td>\n",
       "      <td>1</td>\n",
       "    </tr>\n",
       "    <tr>\n",
       "      <th>100003</th>\n",
       "      <td>0.0</td>\n",
       "      <td>0.0</td>\n",
       "      <td>0.0</td>\n",
       "      <td>0.0</td>\n",
       "      <td>0.0</td>\n",
       "      <td>270000.0</td>\n",
       "      <td>1293502.0</td>\n",
       "      <td>35698.0</td>\n",
       "      <td>1129500.0</td>\n",
       "      <td>1.0</td>\n",
       "      <td>...</td>\n",
       "      <td>0.0</td>\n",
       "      <td>0.0</td>\n",
       "      <td>0.0</td>\n",
       "      <td>0.0</td>\n",
       "      <td>0.0</td>\n",
       "      <td>0.0</td>\n",
       "      <td>0.0</td>\n",
       "      <td>0.0</td>\n",
       "      <td>45.0</td>\n",
       "      <td>0</td>\n",
       "    </tr>\n",
       "    <tr>\n",
       "      <th>100004</th>\n",
       "      <td>1.0</td>\n",
       "      <td>1.0</td>\n",
       "      <td>1.0</td>\n",
       "      <td>1.0</td>\n",
       "      <td>0.0</td>\n",
       "      <td>67500.0</td>\n",
       "      <td>135000.0</td>\n",
       "      <td>6750.0</td>\n",
       "      <td>135000.0</td>\n",
       "      <td>6.0</td>\n",
       "      <td>...</td>\n",
       "      <td>0.0</td>\n",
       "      <td>0.0</td>\n",
       "      <td>0.0</td>\n",
       "      <td>0.0</td>\n",
       "      <td>0.0</td>\n",
       "      <td>0.0</td>\n",
       "      <td>0.0</td>\n",
       "      <td>0.0</td>\n",
       "      <td>52.0</td>\n",
       "      <td>0</td>\n",
       "    </tr>\n",
       "    <tr>\n",
       "      <th>100006</th>\n",
       "      <td>0.0</td>\n",
       "      <td>0.0</td>\n",
       "      <td>0.0</td>\n",
       "      <td>1.0</td>\n",
       "      <td>0.0</td>\n",
       "      <td>135000.0</td>\n",
       "      <td>312682.0</td>\n",
       "      <td>29686.0</td>\n",
       "      <td>297000.0</td>\n",
       "      <td>6.0</td>\n",
       "      <td>...</td>\n",
       "      <td>0.0</td>\n",
       "      <td>0.0</td>\n",
       "      <td>0.0</td>\n",
       "      <td>0.0</td>\n",
       "      <td>0.0</td>\n",
       "      <td>0.0</td>\n",
       "      <td>0.0</td>\n",
       "      <td>2.0</td>\n",
       "      <td>52.0</td>\n",
       "      <td>0</td>\n",
       "    </tr>\n",
       "    <tr>\n",
       "      <th>100007</th>\n",
       "      <td>0.0</td>\n",
       "      <td>1.0</td>\n",
       "      <td>0.0</td>\n",
       "      <td>1.0</td>\n",
       "      <td>0.0</td>\n",
       "      <td>121500.0</td>\n",
       "      <td>513000.0</td>\n",
       "      <td>21866.0</td>\n",
       "      <td>513000.0</td>\n",
       "      <td>6.0</td>\n",
       "      <td>...</td>\n",
       "      <td>0.0</td>\n",
       "      <td>0.0</td>\n",
       "      <td>0.0</td>\n",
       "      <td>0.0</td>\n",
       "      <td>0.0</td>\n",
       "      <td>0.0</td>\n",
       "      <td>0.0</td>\n",
       "      <td>0.0</td>\n",
       "      <td>54.0</td>\n",
       "      <td>0</td>\n",
       "    </tr>\n",
       "  </tbody>\n",
       "</table>\n",
       "<p>5 rows × 122 columns</p>\n",
       "</div>"
      ],
      "text/plain": [
       "            NAME_CONTRACT_TYPE  CODE_GENDER  FLAG_OWN_CAR  FLAG_OWN_REALTY  \\\n",
       "SK_ID_CURR                                                                   \n",
       "100002                     0.0          1.0           0.0              1.0   \n",
       "100003                     0.0          0.0           0.0              0.0   \n",
       "100004                     1.0          1.0           1.0              1.0   \n",
       "100006                     0.0          0.0           0.0              1.0   \n",
       "100007                     0.0          1.0           0.0              1.0   \n",
       "\n",
       "            CNT_CHILDREN  AMT_INCOME_TOTAL  AMT_CREDIT  AMT_ANNUITY  \\\n",
       "SK_ID_CURR                                                            \n",
       "100002               0.0          202500.0    406598.0      24700.0   \n",
       "100003               0.0          270000.0   1293502.0      35698.0   \n",
       "100004               0.0           67500.0    135000.0       6750.0   \n",
       "100006               0.0          135000.0    312682.0      29686.0   \n",
       "100007               0.0          121500.0    513000.0      21866.0   \n",
       "\n",
       "            AMT_GOODS_PRICE  NAME_TYPE_SUITE  ...  FLAG_DOCUMENT_20  \\\n",
       "SK_ID_CURR                                    ...                     \n",
       "100002             351000.0              6.0  ...               0.0   \n",
       "100003            1129500.0              1.0  ...               0.0   \n",
       "100004             135000.0              6.0  ...               0.0   \n",
       "100006             297000.0              6.0  ...               0.0   \n",
       "100007             513000.0              6.0  ...               0.0   \n",
       "\n",
       "            FLAG_DOCUMENT_21  AMT_REQ_CREDIT_BUREAU_HOUR  \\\n",
       "SK_ID_CURR                                                 \n",
       "100002                   0.0                         0.0   \n",
       "100003                   0.0                         0.0   \n",
       "100004                   0.0                         0.0   \n",
       "100006                   0.0                         0.0   \n",
       "100007                   0.0                         0.0   \n",
       "\n",
       "            AMT_REQ_CREDIT_BUREAU_DAY  AMT_REQ_CREDIT_BUREAU_WEEK  \\\n",
       "SK_ID_CURR                                                          \n",
       "100002                            0.0                         0.0   \n",
       "100003                            0.0                         0.0   \n",
       "100004                            0.0                         0.0   \n",
       "100006                            0.0                         0.0   \n",
       "100007                            0.0                         0.0   \n",
       "\n",
       "            AMT_REQ_CREDIT_BUREAU_MON  AMT_REQ_CREDIT_BUREAU_QRT  \\\n",
       "SK_ID_CURR                                                         \n",
       "100002                            0.0                        0.0   \n",
       "100003                            0.0                        0.0   \n",
       "100004                            0.0                        0.0   \n",
       "100006                            0.0                        0.0   \n",
       "100007                            0.0                        0.0   \n",
       "\n",
       "            AMT_REQ_CREDIT_BUREAU_YEAR   AGE  TARGET  \n",
       "SK_ID_CURR                                            \n",
       "100002                             1.0  25.0       1  \n",
       "100003                             0.0  45.0       0  \n",
       "100004                             0.0  52.0       0  \n",
       "100006                             2.0  52.0       0  \n",
       "100007                             0.0  54.0       0  \n",
       "\n",
       "[5 rows x 122 columns]"
      ]
     },
     "metadata": {},
     "output_type": "display_data"
    }
   ],
   "source": [
    "# Read final_imputed_train file\n",
    "final_imputed_train = optimize(pd.read_csv('./output-files/final_imputed_train.csv',index_col='SK_ID_CURR'))\n",
    "display(final_imputed_train.head())"
   ]
  },
  {
   "cell_type": "markdown",
   "metadata": {},
   "source": [
    "### Balancing Classes Using SMOTE"
   ]
  },
  {
   "cell_type": "code",
   "execution_count": 22,
   "metadata": {},
   "outputs": [],
   "source": [
    "# Import libraries needed\n",
    "from numpy import mean\n",
    "from sklearn.model_selection import cross_val_score\n",
    "from sklearn.model_selection import RepeatedStratifiedKFold\n",
    "from sklearn.tree import DecisionTreeClassifier\n",
    "from imblearn.pipeline import Pipeline\n",
    "from imblearn.over_sampling import SMOTE\n",
    "from imblearn.under_sampling import RandomUnderSampler\n",
    "from sklearn.linear_model import LogisticRegression"
   ]
  },
  {
   "cell_type": "code",
   "execution_count": 49,
   "metadata": {},
   "outputs": [
    {
     "name": "stdout",
     "output_type": "stream",
     "text": [
      "> k=1, Mean ROC AUC: 0.634\n",
      "> k=2, Mean ROC AUC: 0.634\n",
      "> k=3, Mean ROC AUC: 0.634\n",
      "> k=4, Mean ROC AUC: 0.635\n",
      "> k=5, Mean ROC AUC: 0.634\n",
      "> k=6, Mean ROC AUC: 0.634\n",
      "> k=7, Mean ROC AUC: 0.634\n"
     ]
    }
   ],
   "source": [
    "# Define dataset\n",
    "X = final_imputed_train.drop('TARGET',axis=1)\n",
    "y = final_imputed_train['TARGET']\n",
    "\n",
    "# Searching optimum k_neighbors for oversample minority data using RepeatedStratifiedKfold\n",
    "k_values = [1, 2, 3, 4, 5, 6, 7]\n",
    "for k in k_values:\n",
    "    # define pipeline\n",
    "    model = LogisticRegression()\n",
    "    over = SMOTE(sampling_strategy=0.5, k_neighbors=k)\n",
    "    under = RandomUnderSampler(sampling_strategy=0.5,random_state=101)\n",
    "    steps = [('over', over), ('under', under), ('model', model)]\n",
    "    pipeline = Pipeline(steps=steps)\n",
    "    # evaluate pipeline\n",
    "    cv = RepeatedStratifiedKFold(n_splits=10, n_repeats=3, random_state=1)\n",
    "    scores = cross_val_score(pipeline, X, y, scoring='roc_auc', cv=cv, n_jobs=-1)\n",
    "    score = mean(scores)\n",
    "    k_score['score'] = score\n",
    "    print('> k=%d, Mean ROC AUC: %.3f' % (k, score))"
   ]
  },
  {
   "cell_type": "code",
   "execution_count": 59,
   "metadata": {},
   "outputs": [
    {
     "name": "stdout",
     "output_type": "stream",
     "text": [
      "> i=0.1, j=0.9, Mean ROC AUC: 0.623\n",
      "> i=0.1, j=0.8, Mean ROC AUC: 0.626\n",
      "> i=0.1, j=0.7, Mean ROC AUC: 0.630\n",
      "> i=0.1, j=0.6, Mean ROC AUC: 0.633\n",
      "> i=0.1, j=0.5, Mean ROC AUC: 0.635\n",
      "> i=0.2, j=0.9, Mean ROC AUC: 0.622\n",
      "> i=0.2, j=0.8, Mean ROC AUC: 0.626\n",
      "> i=0.2, j=0.7, Mean ROC AUC: 0.629\n",
      "> i=0.2, j=0.6, Mean ROC AUC: 0.632\n",
      "> i=0.2, j=0.5, Mean ROC AUC: 0.635\n",
      "> i=0.3, j=0.9, Mean ROC AUC: 0.622\n",
      "> i=0.3, j=0.8, Mean ROC AUC: 0.626\n",
      "> i=0.3, j=0.7, Mean ROC AUC: 0.629\n",
      "> i=0.3, j=0.6, Mean ROC AUC: 0.632\n",
      "> i=0.3, j=0.5, Mean ROC AUC: 0.635\n",
      "> i=0.4, j=0.9, Mean ROC AUC: 0.622\n",
      "> i=0.4, j=0.8, Mean ROC AUC: 0.625\n",
      "> i=0.4, j=0.7, Mean ROC AUC: 0.629\n",
      "> i=0.4, j=0.6, Mean ROC AUC: 0.632\n",
      "> i=0.4, j=0.5, Mean ROC AUC: 0.634\n",
      "> i=0.5, j=0.9, Mean ROC AUC: 0.622\n",
      "> i=0.5, j=0.8, Mean ROC AUC: 0.625\n",
      "> i=0.5, j=0.7, Mean ROC AUC: 0.629\n",
      "> i=0.5, j=0.6, Mean ROC AUC: 0.632\n",
      "> i=0.5, j=0.5, Mean ROC AUC: 0.634\n"
     ]
    }
   ],
   "source": [
    "# Finding optimum oversample and undersample strategy that gives maximum score\n",
    "oversample_strategy = [0.1, 0.2, 0.3, 0.4, 0.5]\n",
    "undersample_strategy = [0.9, 0.8, 0.7, 0.6, 0.5]\n",
    "\n",
    "for i in oversample_strategy:\n",
    "    for j in undersample_strategy:\n",
    "        model = LogisticRegression()\n",
    "        over = SMOTE(sampling_strategy=i, k_neighbors=4)\n",
    "        under = RandomUnderSampler(sampling_strategy=j,random_state=101)\n",
    "        steps = [('over', over), ('under', under), ('model', model)]\n",
    "        pipeline = Pipeline(steps=steps)\n",
    "        # evaluate pipeline\n",
    "        cv = RepeatedStratifiedKFold(n_splits=10, n_repeats=3, random_state=1)\n",
    "        scores = cross_val_score(pipeline, X, y, scoring='roc_auc', cv=cv, n_jobs=-1)\n",
    "        score = mean(scores)\n",
    "        print('> i=%.1f, j=%.1f, Mean ROC AUC: %.3f' % (i,j, score))      "
   ]
  },
  {
   "cell_type": "code",
   "execution_count": 12,
   "metadata": {},
   "outputs": [],
   "source": [
    "# Transforming dataset with optimum parameters (k_neighbors, oversample strategy, undersample strategy) obtained\n",
    "over = SMOTE(sampling_strategy=0.3, k_neighbors=2)\n",
    "under = RandomUnderSampler(sampling_strategy=0.4,random_state=101)\n",
    "steps = [('over', over), ('under', under)]\n",
    "pipeline = Pipeline(steps=steps)\n",
    "X = final_imputed_train.drop('TARGET',axis=1)\n",
    "y = final_imputed_train['TARGET']\n",
    "X, y = pipeline.fit_resample(X, y)"
   ]
  },
  {
   "cell_type": "code",
   "execution_count": 13,
   "metadata": {},
   "outputs": [
    {
     "data": {
      "text/plain": [
       "<AxesSubplot:xlabel='TARGET', ylabel='count'>"
      ]
     },
     "execution_count": 13,
     "metadata": {},
     "output_type": "execute_result"
    },
    {
     "data": {
      "image/png": "[encoded data removed]",
      "text/plain": [
       "<Figure size 432x288 with 1 Axes>"
      ]
     },
     "metadata": {
      "needs_background": "light"
     },
     "output_type": "display_data"
    }
   ],
   "source": [
    "# Checking target class proportion after rebalancing\n",
    "sns.countplot(x=y)"
   ]
  },
  {
   "cell_type": "markdown",
   "metadata": {},
   "source": [
    "### Regularization (Lasso Regression)"
   ]
  },
  {
   "cell_type": "code",
   "execution_count": 14,
   "metadata": {},
   "outputs": [
    {
     "name": "stdout",
     "output_type": "stream",
     "text": [
      "The features that will be used are ['NAME_CONTRACT_TYPE', 'CODE_GENDER', 'FLAG_OWN_CAR', 'NAME_EDUCATION_TYPE', 'DAYS_EMPLOYED', 'REGION_RATING_CLIENT_W_CITY', 'EXT_SOURCE_1', 'EXT_SOURCE_2', 'EXT_SOURCE_3', 'DEF_30_CNT_SOCIAL_CIRCLE', 'FLAG_DOCUMENT_3']\n"
     ]
    }
   ],
   "source": [
    "from sklearn.linear_model import Lasso\n",
    "from sklearn.preprocessing import StandardScaler\n",
    "prediction=pd.DataFrame()\n",
    "\n",
    "X = final_imputed_train.drop('TARGET',axis=1)\n",
    "y = final_imputed_train['TARGET']\n",
    "clf = Lasso(alpha=0.005)\n",
    "scaler = StandardScaler()\n",
    "clf.fit(scaler.fit_transform(X), y)\n",
    "\n",
    "final_features = []\n",
    "for i in range(len(list(X))):\n",
    "    if clf.coef_[i]:\n",
    "        final_features.append(list(X)[i])\n",
    "\n",
    "print('The features that will be used are', final_features)"
   ]
  },
  {
   "cell_type": "code",
   "execution_count": 15,
   "metadata": {},
   "outputs": [
    {
     "data": {
      "text/plain": [
       "['NAME_CONTRACT_TYPE',\n",
       " 'CODE_GENDER',\n",
       " 'FLAG_OWN_CAR',\n",
       " 'NAME_EDUCATION_TYPE',\n",
       " 'DAYS_EMPLOYED',\n",
       " 'REGION_RATING_CLIENT_W_CITY',\n",
       " 'EXT_SOURCE_1',\n",
       " 'EXT_SOURCE_2',\n",
       " 'EXT_SOURCE_3',\n",
       " 'DEF_30_CNT_SOCIAL_CIRCLE',\n",
       " 'FLAG_DOCUMENT_3']"
      ]
     },
     "execution_count": 15,
     "metadata": {},
     "output_type": "execute_result"
    }
   ],
   "source": [
    "# List of final features used in model\n",
    "final_features"
   ]
  },
  {
   "cell_type": "code",
   "execution_count": 16,
   "metadata": {},
   "outputs": [],
   "source": [
    "# Updating train data set\n",
    "final_train = pd.concat([X[final_features],y],axis=1)\n",
    "final_train.to_csv('./output-files/final_train.csv')"
   ]
  },
  {
   "cell_type": "code",
   "execution_count": 17,
   "metadata": {},
   "outputs": [
    {
     "name": "stdout",
     "output_type": "stream",
     "text": [
      "Memory usage of dataframe is: 30.50 MB\n",
      "Memory usage after optimization is: 14.37 MB\n",
      "Decreased by 52.9%\n"
     ]
    },
    {
     "data": {
      "text/html": [
       "<div>\n",
       "<style scoped>\n",
       "    .dataframe tbody tr th:only-of-type {\n",
       "        vertical-align: middle;\n",
       "    }\n",
       "\n",
       "    .dataframe tbody tr th {\n",
       "        vertical-align: top;\n",
       "    }\n",
       "\n",
       "    .dataframe thead th {\n",
       "        text-align: right;\n",
       "    }\n",
       "</style>\n",
       "<table border=\"1\" class=\"dataframe\">\n",
       "  <thead>\n",
       "    <tr style=\"text-align: right;\">\n",
       "      <th></th>\n",
       "      <th>SK_ID_CURR</th>\n",
       "      <th>NAME_CONTRACT_TYPE</th>\n",
       "      <th>CODE_GENDER</th>\n",
       "      <th>FLAG_OWN_CAR</th>\n",
       "      <th>NAME_EDUCATION_TYPE</th>\n",
       "      <th>DAYS_EMPLOYED</th>\n",
       "      <th>REGION_RATING_CLIENT_W_CITY</th>\n",
       "      <th>EXT_SOURCE_1</th>\n",
       "      <th>EXT_SOURCE_2</th>\n",
       "      <th>EXT_SOURCE_3</th>\n",
       "      <th>DEF_30_CNT_SOCIAL_CIRCLE</th>\n",
       "      <th>FLAG_DOCUMENT_3</th>\n",
       "      <th>TARGET</th>\n",
       "    </tr>\n",
       "  </thead>\n",
       "  <tbody>\n",
       "    <tr>\n",
       "      <th>0</th>\n",
       "      <td>100002</td>\n",
       "      <td>0.0</td>\n",
       "      <td>1.0</td>\n",
       "      <td>0.0</td>\n",
       "      <td>4.0</td>\n",
       "      <td>-637.0</td>\n",
       "      <td>2.0</td>\n",
       "      <td>0.083037</td>\n",
       "      <td>0.262949</td>\n",
       "      <td>0.139376</td>\n",
       "      <td>2.0</td>\n",
       "      <td>1.0</td>\n",
       "      <td>1</td>\n",
       "    </tr>\n",
       "    <tr>\n",
       "      <th>1</th>\n",
       "      <td>100003</td>\n",
       "      <td>0.0</td>\n",
       "      <td>0.0</td>\n",
       "      <td>0.0</td>\n",
       "      <td>1.0</td>\n",
       "      <td>-1188.0</td>\n",
       "      <td>1.0</td>\n",
       "      <td>0.311267</td>\n",
       "      <td>0.622246</td>\n",
       "      <td>0.514970</td>\n",
       "      <td>0.0</td>\n",
       "      <td>1.0</td>\n",
       "      <td>0</td>\n",
       "    </tr>\n",
       "    <tr>\n",
       "      <th>2</th>\n",
       "      <td>100004</td>\n",
       "      <td>1.0</td>\n",
       "      <td>1.0</td>\n",
       "      <td>1.0</td>\n",
       "      <td>4.0</td>\n",
       "      <td>-225.0</td>\n",
       "      <td>2.0</td>\n",
       "      <td>0.621678</td>\n",
       "      <td>0.555912</td>\n",
       "      <td>0.729567</td>\n",
       "      <td>0.0</td>\n",
       "      <td>0.0</td>\n",
       "      <td>0</td>\n",
       "    </tr>\n",
       "    <tr>\n",
       "      <th>3</th>\n",
       "      <td>100006</td>\n",
       "      <td>0.0</td>\n",
       "      <td>0.0</td>\n",
       "      <td>0.0</td>\n",
       "      <td>4.0</td>\n",
       "      <td>-3039.0</td>\n",
       "      <td>2.0</td>\n",
       "      <td>0.627003</td>\n",
       "      <td>0.650442</td>\n",
       "      <td>0.542843</td>\n",
       "      <td>0.0</td>\n",
       "      <td>1.0</td>\n",
       "      <td>0</td>\n",
       "    </tr>\n",
       "    <tr>\n",
       "      <th>4</th>\n",
       "      <td>100007</td>\n",
       "      <td>0.0</td>\n",
       "      <td>1.0</td>\n",
       "      <td>0.0</td>\n",
       "      <td>4.0</td>\n",
       "      <td>-3038.0</td>\n",
       "      <td>2.0</td>\n",
       "      <td>0.627377</td>\n",
       "      <td>0.322738</td>\n",
       "      <td>0.544202</td>\n",
       "      <td>0.0</td>\n",
       "      <td>0.0</td>\n",
       "      <td>0</td>\n",
       "    </tr>\n",
       "  </tbody>\n",
       "</table>\n",
       "</div>"
      ],
      "text/plain": [
       "   SK_ID_CURR  NAME_CONTRACT_TYPE  CODE_GENDER  FLAG_OWN_CAR  \\\n",
       "0      100002                 0.0          1.0           0.0   \n",
       "1      100003                 0.0          0.0           0.0   \n",
       "2      100004                 1.0          1.0           1.0   \n",
       "3      100006                 0.0          0.0           0.0   \n",
       "4      100007                 0.0          1.0           0.0   \n",
       "\n",
       "   NAME_EDUCATION_TYPE  DAYS_EMPLOYED  REGION_RATING_CLIENT_W_CITY  \\\n",
       "0                  4.0         -637.0                          2.0   \n",
       "1                  1.0        -1188.0                          1.0   \n",
       "2                  4.0         -225.0                          2.0   \n",
       "3                  4.0        -3039.0                          2.0   \n",
       "4                  4.0        -3038.0                          2.0   \n",
       "\n",
       "   EXT_SOURCE_1  EXT_SOURCE_2  EXT_SOURCE_3  DEF_30_CNT_SOCIAL_CIRCLE  \\\n",
       "0      0.083037      0.262949      0.139376                       2.0   \n",
       "1      0.311267      0.622246      0.514970                       0.0   \n",
       "2      0.621678      0.555912      0.729567                       0.0   \n",
       "3      0.627003      0.650442      0.542843                       0.0   \n",
       "4      0.627377      0.322738      0.544202                       0.0   \n",
       "\n",
       "   FLAG_DOCUMENT_3  TARGET  \n",
       "0              1.0       1  \n",
       "1              1.0       0  \n",
       "2              0.0       0  \n",
       "3              1.0       0  \n",
       "4              0.0       0  "
      ]
     },
     "metadata": {},
     "output_type": "display_data"
    }
   ],
   "source": [
    "# Reading final_train dataset that will be used in modelling\n",
    "final_train = optimize(pd.read_csv('./output-files/final_train.csv'))\n",
    "display(final_train.head())"
   ]
  },
  {
   "cell_type": "markdown",
   "metadata": {},
   "source": [
    "## Data Modelling"
   ]
  },
  {
   "cell_type": "markdown",
   "metadata": {},
   "source": [
    "### Train-test Split Data"
   ]
  },
  {
   "cell_type": "code",
   "execution_count": 18,
   "metadata": {},
   "outputs": [
    {
     "name": "stdout",
     "output_type": "stream",
     "text": [
      "X_train shape: (215257, 12) \n",
      "X_test shape: (92254, 12) \n",
      "y_train shape: (215257,) \n",
      "y_test shape: (92254,)\n"
     ]
    }
   ],
   "source": [
    "X = final_train.drop('TARGET',axis=1)\n",
    "y = final_train['TARGET']\n",
    "from sklearn.model_selection import train_test_split\n",
    "X_train, X_test, y_train, y_test = train_test_split(X, y, test_size=0.3, random_state=42)\n",
    "print('X_train shape:', X_train.shape,'\\n'\n",
    "      'X_test shape:', X_test.shape,'\\n'\n",
    "      'y_train shape:', y_train.shape,'\\n'\n",
    "      'y_test shape:', y_test.shape)"
   ]
  },
  {
   "cell_type": "code",
   "execution_count": 19,
   "metadata": {},
   "outputs": [
    {
     "data": {
      "text/plain": [
       "array([0.06741572, 0.0251509 , 0.03790187, ..., 0.03235917, 0.05932293,\n",
       "       0.14889962])"
      ]
     },
     "execution_count": 19,
     "metadata": {},
     "output_type": "execute_result"
    }
   ],
   "source": [
    "from sklearn.linear_model import LogisticRegression\n",
    "from sklearn.preprocessing import StandardScaler\n",
    "\n",
    "scaler = StandardScaler()\n",
    "log_reg = LogisticRegression(max_iter = 1000)\n",
    "log_reg.fit(scaler.fit_transform(X_train),y_train)\n",
    "prediction = log_reg.predict_proba(scaler.fit_transform(X_train))\n",
    "prediction[:,1]"
   ]
  },
  {
   "cell_type": "code",
   "execution_count": 20,
   "metadata": {},
   "outputs": [
    {
     "data": {
      "image/png": "[encoded data removed]",
      "text/plain": [
       "<Figure size 432x288 with 1 Axes>"
      ]
     },
     "metadata": {
      "needs_background": "light"
     },
     "output_type": "display_data"
    },
    {
     "name": "stdout",
     "output_type": "stream",
     "text": [
      "Gini = 47.8045\n",
      "AUC = 0.7390224256299602\n"
     ]
    }
   ],
   "source": [
    "# logit_roc_auc = roc_auc_score(y_train.values, pred)\n",
    "logit_roc_auc = roc_auc_score(y_train, prediction[:,1])\n",
    "fpr, tpr, thresholds = roc_curve(y_train, prediction[:,1])\n",
    "\n",
    "plt.figure()\n",
    "gini = 2*(logit_roc_auc-0.5)*100\n",
    "plt.plot(fpr, tpr,'b', label='GINI = %0.4f' % gini)\n",
    "plt.plot([0, 1], [0, 1],'r--')\n",
    "plt.xlim([0.0, 1.0])\n",
    "plt.ylim([0.0, 1.0])\n",
    "plt.xlabel('False Positive Rate')\n",
    "plt.ylabel('True Positive Rate')\n",
    "plt.title('ROC - Train data')\n",
    "plt.legend(loc=\"lower right\")\n",
    "plt.savefig('Log_ROC_TRAIN')\n",
    "plt.grid()\n",
    "plt.show() \n",
    "\n",
    "print('Gini = %0.4f'% gini)\n",
    "print('AUC =',logit_roc_auc)"
   ]
  },
  {
   "cell_type": "code",
   "execution_count": null,
   "metadata": {},
   "outputs": [],
   "source": [
    "scaler"
   ]
  },
  {
   "cell_type": "markdown",
   "metadata": {},
   "source": [
    "# Reference"
   ]
  },
  {
   "cell_type": "markdown",
   "metadata": {},
   "source": [
    "https://scikit-learn.org/stable/modules/generated/sklearn.linear_model.Lasso.html <br>\n",
    "https://scikit-learn.org/stable/modules/generated/sklearn.preprocessing.StandardScaler.html<br>\n",
    "https://towardsdatascience.com/feature-selection-using-regularisation-a3678b71e499 <br>\n",
    "https://towardsdatascience.com/how-to-perform-lasso-and-ridge-regression-in-python-3b3b75541ad8 <br>\n",
    "https://towardsdatascience.com/feature-engineering-for-machine-learning-3a5e293a5114 <br>\n",
    "https://towardsdatascience.com/how-to-calibrate-undersampled-model-scores-8f3319c1ea5b <br>\n",
    "https://towardsdatascience.com/dealing-with-imbalanced-classes-in-machine-learning-d43d6fa19d2 <br>\n",
    "https://machinelearningmastery.com/smote-oversampling-for-imbalanced-classification/ <br>\n",
    "https://machinelearningmastery.com/calculate-feature-importance-with-python/ <br>\n",
    "Buuren, Oudshoorn.2011.mice: Multivariate Imputation by Chained Equations in R.*Jurnal of Statistical Software*.45(3) <br>\n"
   ]
  },
  {
   "cell_type": "code",
   "execution_count": null,
   "metadata": {},
   "outputs": [],
   "source": []
  }
 ],
 "metadata": {
  "kernelspec": {
   "display_name": "Python 3",
   "language": "python",
   "name": "python3"
  },
  "language_info": {
   "codemirror_mode": {
    "name": "ipython",
    "version": 3
   },
   "file_extension": ".py",
   "mimetype": "text/x-python",
   "name": "python",
   "nbconvert_exporter": "python",
   "pygments_lexer": "ipython3",
   "version": "3.8.5"
  }
 },
 "nbformat": 4,
 "nbformat_minor": 4
}
