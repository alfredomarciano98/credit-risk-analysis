{
 "cells": [
  {
   "cell_type": "code",
   "execution_count": 1,
   "metadata": {},
   "outputs": [],
   "source": [
    "import pandas as pd\n",
    "import numpy as np\n",
    "import matplotlib.pyplot as plt\n",
    "%matplotlib inline\n",
    "import seaborn as sns\n",
    "import os\n",
    "import math\n",
    "import statistics\n",
    "\n",
    "from sklearn.preprocessing import OrdinalEncoder\n",
    "from sklearn.experimental import enable_iterative_imputer \n",
    "from sklearn.impute import IterativeImputer\n",
    "from numpy import mean\n",
    "from sklearn.model_selection import cross_val_score\n",
    "from sklearn.model_selection import RepeatedStratifiedKFold\n",
    "from sklearn.tree import DecisionTreeClassifier\n",
    "from imblearn.pipeline import Pipeline\n",
    "from imblearn.over_sampling import SMOTE\n",
    "from imblearn.under_sampling import RandomUnderSampler\n",
    "from sklearn.linear_model import LogisticRegression\n",
    "from sklearn.linear_model import Lasso\n",
    "from sklearn.preprocessing import StandardScaler\n",
    "from sklearn.metrics import make_scorer, roc_auc_score\n",
    "from sklearn.linear_model import LogisticRegression\n",
    "from sklearn import metrics\n",
    "from sklearn.metrics import roc_auc_score\n",
    "from sklearn.metrics import roc_curve\n",
    "from sklearn.linear_model import SGDClassifier\n",
    "from sklearn.ensemble import RandomForestClassifier\n",
    "# from xgboost.sklearn import XGBClassifier\n",
    "\n",
    "pd.options.display.max_rows = 1000"
   ]
  },
  {
   "cell_type": "code",
   "execution_count": 2,
   "metadata": {},
   "outputs": [
    {
     "data": {
      "text/html": [
       "<div>\n",
       "<style scoped>\n",
       "    .dataframe tbody tr th:only-of-type {\n",
       "        vertical-align: middle;\n",
       "    }\n",
       "\n",
       "    .dataframe tbody tr th {\n",
       "        vertical-align: top;\n",
       "    }\n",
       "\n",
       "    .dataframe thead th {\n",
       "        text-align: right;\n",
       "    }\n",
       "</style>\n",
       "<table border=\"1\" class=\"dataframe\">\n",
       "  <thead>\n",
       "    <tr style=\"text-align: right;\">\n",
       "      <th></th>\n",
       "      <th>DAYS_EMPLOYED</th>\n",
       "      <th>EXT_SOURCE_1</th>\n",
       "      <th>EXT_SOURCE_2</th>\n",
       "      <th>EXT_SOURCE_3</th>\n",
       "      <th>DEF_30_CNT_SOCIAL_CIRCLE</th>\n",
       "      <th>FLAG_DOCUMENT_3</th>\n",
       "      <th>NAME_CONTRACT_TYPE</th>\n",
       "      <th>CODE_GENDER</th>\n",
       "      <th>FLAG_OWN_CAR</th>\n",
       "      <th>NAME_EDUCATION_TYPE</th>\n",
       "      <th>TARGET</th>\n",
       "    </tr>\n",
       "    <tr>\n",
       "      <th>SK_ID_CURR</th>\n",
       "      <th></th>\n",
       "      <th></th>\n",
       "      <th></th>\n",
       "      <th></th>\n",
       "      <th></th>\n",
       "      <th></th>\n",
       "      <th></th>\n",
       "      <th></th>\n",
       "      <th></th>\n",
       "      <th></th>\n",
       "      <th></th>\n",
       "    </tr>\n",
       "  </thead>\n",
       "  <tbody>\n",
       "    <tr>\n",
       "      <th>100002</th>\n",
       "      <td>-637.0</td>\n",
       "      <td>0.083037</td>\n",
       "      <td>0.262949</td>\n",
       "      <td>0.139376</td>\n",
       "      <td>2.0</td>\n",
       "      <td>1.0</td>\n",
       "      <td>0.0</td>\n",
       "      <td>1.0</td>\n",
       "      <td>0.0</td>\n",
       "      <td>4.0</td>\n",
       "      <td>1</td>\n",
       "    </tr>\n",
       "    <tr>\n",
       "      <th>100003</th>\n",
       "      <td>-1188.0</td>\n",
       "      <td>0.311267</td>\n",
       "      <td>0.622246</td>\n",
       "      <td>0.520390</td>\n",
       "      <td>0.0</td>\n",
       "      <td>1.0</td>\n",
       "      <td>0.0</td>\n",
       "      <td>0.0</td>\n",
       "      <td>0.0</td>\n",
       "      <td>1.0</td>\n",
       "      <td>0</td>\n",
       "    </tr>\n",
       "    <tr>\n",
       "      <th>100004</th>\n",
       "      <td>-225.0</td>\n",
       "      <td>0.640283</td>\n",
       "      <td>0.555912</td>\n",
       "      <td>0.729567</td>\n",
       "      <td>0.0</td>\n",
       "      <td>0.0</td>\n",
       "      <td>1.0</td>\n",
       "      <td>1.0</td>\n",
       "      <td>1.0</td>\n",
       "      <td>4.0</td>\n",
       "      <td>0</td>\n",
       "    </tr>\n",
       "    <tr>\n",
       "      <th>100006</th>\n",
       "      <td>-3039.0</td>\n",
       "      <td>0.645725</td>\n",
       "      <td>0.650442</td>\n",
       "      <td>0.540722</td>\n",
       "      <td>0.0</td>\n",
       "      <td>1.0</td>\n",
       "      <td>0.0</td>\n",
       "      <td>0.0</td>\n",
       "      <td>0.0</td>\n",
       "      <td>4.0</td>\n",
       "      <td>0</td>\n",
       "    </tr>\n",
       "    <tr>\n",
       "      <th>100007</th>\n",
       "      <td>-3038.0</td>\n",
       "      <td>0.639155</td>\n",
       "      <td>0.322738</td>\n",
       "      <td>0.527859</td>\n",
       "      <td>0.0</td>\n",
       "      <td>0.0</td>\n",
       "      <td>0.0</td>\n",
       "      <td>1.0</td>\n",
       "      <td>0.0</td>\n",
       "      <td>4.0</td>\n",
       "      <td>0</td>\n",
       "    </tr>\n",
       "  </tbody>\n",
       "</table>\n",
       "</div>"
      ],
      "text/plain": [
       "            DAYS_EMPLOYED  EXT_SOURCE_1  EXT_SOURCE_2  EXT_SOURCE_3  \\\n",
       "SK_ID_CURR                                                            \n",
       "100002             -637.0      0.083037      0.262949      0.139376   \n",
       "100003            -1188.0      0.311267      0.622246      0.520390   \n",
       "100004             -225.0      0.640283      0.555912      0.729567   \n",
       "100006            -3039.0      0.645725      0.650442      0.540722   \n",
       "100007            -3038.0      0.639155      0.322738      0.527859   \n",
       "\n",
       "            DEF_30_CNT_SOCIAL_CIRCLE  FLAG_DOCUMENT_3  NAME_CONTRACT_TYPE  \\\n",
       "SK_ID_CURR                                                                  \n",
       "100002                           2.0              1.0                 0.0   \n",
       "100003                           0.0              1.0                 0.0   \n",
       "100004                           0.0              0.0                 1.0   \n",
       "100006                           0.0              1.0                 0.0   \n",
       "100007                           0.0              0.0                 0.0   \n",
       "\n",
       "            CODE_GENDER  FLAG_OWN_CAR  NAME_EDUCATION_TYPE  TARGET  \n",
       "SK_ID_CURR                                                          \n",
       "100002              1.0           0.0                  4.0       1  \n",
       "100003              0.0           0.0                  1.0       0  \n",
       "100004              1.0           1.0                  4.0       0  \n",
       "100006              0.0           0.0                  4.0       0  \n",
       "100007              1.0           0.0                  4.0       0  "
      ]
     },
     "metadata": {},
     "output_type": "display_data"
    }
   ],
   "source": [
    "# Reading final_train dataset that will be used in modelling\n",
    "final_train = pd.read_csv('./output-files/final_train.csv',index_col ='SK_ID_CURR' )\n",
    "display(final_train.head())"
   ]
  },
  {
   "cell_type": "markdown",
   "metadata": {},
   "source": [
    "## Train-test Split Data"
   ]
  },
  {
   "cell_type": "code",
   "execution_count": 3,
   "metadata": {},
   "outputs": [
    {
     "name": "stdout",
     "output_type": "stream",
     "text": [
      "X_train shape: (215257, 10) \n",
      "X_test shape: (92254, 10) \n",
      "y_train shape: (215257,) \n",
      "y_test shape: (92254,)\n"
     ]
    }
   ],
   "source": [
    "# Splitting the data to train and test set\n",
    "X = final_train.drop('TARGET',axis=1)\n",
    "y = final_train['TARGET']\n",
    "from sklearn.model_selection import train_test_split\n",
    "X_train, X_test, y_train, y_test = train_test_split(X, y, test_size=0.3, random_state=42)\n",
    "print('X_train shape:', X_train.shape,'\\n'\n",
    "      'X_test shape:', X_test.shape,'\\n'\n",
    "      'y_train shape:', y_train.shape,'\\n'\n",
    "      'y_test shape:', y_test.shape)"
   ]
  },
  {
   "cell_type": "code",
   "execution_count": 5,
   "metadata": {},
   "outputs": [
    {
     "data": {
      "text/plain": [
       "LogisticRegression(class_weight='balanced', max_iter=1000)"
      ]
     },
     "execution_count": 5,
     "metadata": {},
     "output_type": "execute_result"
    }
   ],
   "source": [
    "# Calling scaler\n",
    "scaler = StandardScaler()\n",
    "\n",
    "# Calling logistic regression model\n",
    "log_reg = LogisticRegression(max_iter = 1000,class_weight='balanced',)\n",
    "# Fitting the model to X_train and y_train\n",
    "log_reg.fit(scaler.fit_transform(X_train),y_train)"
   ]
  },
  {
   "cell_type": "markdown",
   "metadata": {},
   "source": [
    "### Model Evaluation"
   ]
  },
  {
   "cell_type": "code",
   "execution_count": 6,
   "metadata": {},
   "outputs": [
    {
     "data": {
      "image/png": "[encoded data removed]",
      "text/plain": [
       "<Figure size 432x432 with 1 Axes>"
      ]
     },
     "metadata": {
      "needs_background": "light"
     },
     "output_type": "display_data"
    },
    {
     "name": "stdout",
     "output_type": "stream",
     "text": [
      "Gini = 47.6775\n",
      "AUC = 0.738387665111331\n"
     ]
    },
    {
     "data": {
      "image/png": "[encoded data removed]",
      "text/plain": [
       "<Figure size 432x432 with 1 Axes>"
      ]
     },
     "metadata": {},
     "output_type": "display_data"
    },
    {
     "name": "stdout",
     "output_type": "stream",
     "text": [
      "Gini = 47.6731\n",
      "AUC = 0.7383654644970956\n"
     ]
    }
   ],
   "source": [
    "# Draw ROC curve for model predicting train data\n",
    "roc_auc = roc_auc_score(y_train, log_reg.predict_proba(scaler.fit_transform(X_train))[:,1])\n",
    "fpr, tpr, thresholds = roc_curve(y_train, log_reg.predict_proba(scaler.fit_transform(X_train))[:,1])\n",
    "gini = 2*(roc_auc-0.5)*100\n",
    "\n",
    "plt.figure(figsize=(6,6))\n",
    "plt.style.use('seaborn')\n",
    "plt.plot(fpr, tpr,'b', label='ROC Curve')\n",
    "plt.plot([0, 1], [0, 1],'r--')\n",
    "plt.xlim([0.0, 1.0])\n",
    "plt.ylim([0.0, 1.0])\n",
    "plt.xlabel('False Positive Rate')\n",
    "plt.ylabel('True Positive Rate')\n",
    "plt.title('ROC - Train data')\n",
    "plt.legend(loc=\"lower right\",fontsize='medium')\n",
    "plt.savefig('./output-files/graphs-and-charts/ROC_TRAIN.png')\n",
    "plt.show() \n",
    "\n",
    "print('Gini = %0.4f'% gini)\n",
    "print('AUC =',roc_auc)\n",
    "\n",
    "\n",
    "# Draw ROC curve for model predicting test data\n",
    "roc_auc = roc_auc_score(y_test, log_reg.predict_proba(scaler.fit_transform(X_test))[:,1])\n",
    "fpr, tpr, thresholds = roc_curve(y_test, log_reg.predict_proba(scaler.fit_transform(X_test))[:,1])\n",
    "gini = 2*(roc_auc-0.5)*100\n",
    "\n",
    "plt.figure(figsize=(6,6))\n",
    "plt.style.use('seaborn')\n",
    "plt.plot(fpr, tpr,'b', label='ROC Curve')\n",
    "plt.plot([0, 1], [0, 1],'r--')\n",
    "plt.xlim([0.0, 1.0])\n",
    "plt.ylim([0.0, 1.0])\n",
    "plt.xlabel('False Positive Rate')\n",
    "plt.ylabel('True Positive Rate')\n",
    "plt.title('ROC - Test data')\n",
    "plt.legend(loc=\"lower right\",fontsize='medium')\n",
    "plt.savefig('./output-files/graphs-and-charts/ROC_TEST.png')\n",
    "plt.show() \n",
    "\n",
    "print('Gini = %0.4f'% gini)\n",
    "print('AUC =',roc_auc)"
   ]
  },
  {
   "cell_type": "code",
   "execution_count": 7,
   "metadata": {},
   "outputs": [],
   "source": [
    "final_imputed_oot = pd.read_csv('./output-files/final-imputed-oot.csv',index_col='SK_ID_CURR')"
   ]
  },
  {
   "cell_type": "code",
   "execution_count": 8,
   "metadata": {},
   "outputs": [
    {
     "data": {
      "text/html": [
       "<div>\n",
       "<style scoped>\n",
       "    .dataframe tbody tr th:only-of-type {\n",
       "        vertical-align: middle;\n",
       "    }\n",
       "\n",
       "    .dataframe tbody tr th {\n",
       "        vertical-align: top;\n",
       "    }\n",
       "\n",
       "    .dataframe thead th {\n",
       "        text-align: right;\n",
       "    }\n",
       "</style>\n",
       "<table border=\"1\" class=\"dataframe\">\n",
       "  <thead>\n",
       "    <tr style=\"text-align: right;\">\n",
       "      <th></th>\n",
       "      <th>TARGET</th>\n",
       "    </tr>\n",
       "    <tr>\n",
       "      <th>SK_ID_CURR</th>\n",
       "      <th></th>\n",
       "    </tr>\n",
       "  </thead>\n",
       "  <tbody>\n",
       "    <tr>\n",
       "      <th>100001</th>\n",
       "      <td>0.342068</td>\n",
       "    </tr>\n",
       "    <tr>\n",
       "      <th>100005</th>\n",
       "      <td>0.668642</td>\n",
       "    </tr>\n",
       "    <tr>\n",
       "      <th>100013</th>\n",
       "      <td>0.163675</td>\n",
       "    </tr>\n",
       "    <tr>\n",
       "      <th>100028</th>\n",
       "      <td>0.359817</td>\n",
       "    </tr>\n",
       "    <tr>\n",
       "      <th>100038</th>\n",
       "      <td>0.631633</td>\n",
       "    </tr>\n",
       "    <tr>\n",
       "      <th>...</th>\n",
       "      <td>...</td>\n",
       "    </tr>\n",
       "    <tr>\n",
       "      <th>456221</th>\n",
       "      <td>0.226626</td>\n",
       "    </tr>\n",
       "    <tr>\n",
       "      <th>456222</th>\n",
       "      <td>0.409949</td>\n",
       "    </tr>\n",
       "    <tr>\n",
       "      <th>456223</th>\n",
       "      <td>0.375017</td>\n",
       "    </tr>\n",
       "    <tr>\n",
       "      <th>456224</th>\n",
       "      <td>0.440032</td>\n",
       "    </tr>\n",
       "    <tr>\n",
       "      <th>456250</th>\n",
       "      <td>0.565867</td>\n",
       "    </tr>\n",
       "  </tbody>\n",
       "</table>\n",
       "<p>48744 rows × 1 columns</p>\n",
       "</div>"
      ],
      "text/plain": [
       "              TARGET\n",
       "SK_ID_CURR          \n",
       "100001      0.342068\n",
       "100005      0.668642\n",
       "100013      0.163675\n",
       "100028      0.359817\n",
       "100038      0.631633\n",
       "...              ...\n",
       "456221      0.226626\n",
       "456222      0.409949\n",
       "456223      0.375017\n",
       "456224      0.440032\n",
       "456250      0.565867\n",
       "\n",
       "[48744 rows x 1 columns]"
      ]
     },
     "execution_count": 8,
     "metadata": {},
     "output_type": "execute_result"
    }
   ],
   "source": [
    "# Change oot_data features to only final_features\n",
    "X = final_imputed_oot[final_train.columns.drop('TARGET')]\n",
    "\n",
    "# Predict the probability of application will be default using the model \n",
    "prediction = log_reg.predict_proba(scaler.fit_transform(X))\n",
    "\n",
    "# Construct the dataframe consisted of prediction\n",
    "oot_prediction = pd.DataFrame(prediction[:,1], index=X.index, columns=['TARGET'])\n",
    "oot_prediction.to_csv('./output-files/prediction.csv')\n",
    "oot_prediction"
   ]
  }
 ],
 "metadata": {
  "kernelspec": {
   "display_name": "Python 3",
   "language": "python",
   "name": "python3"
  },
  "language_info": {
   "codemirror_mode": {
    "name": "ipython",
    "version": 3
   },
   "file_extension": ".py",
   "mimetype": "text/x-python",
   "name": "python",
   "nbconvert_exporter": "python",
   "pygments_lexer": "ipython3",
   "version": "3.8.5"
  }
 },
 "nbformat": 4,
 "nbformat_minor": 4
}
